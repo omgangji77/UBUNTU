{
  "nbformat": 4,
  "nbformat_minor": 0,
  "metadata": {
    "colab": {
      "provenance": []
    },
    "kernelspec": {
      "name": "python3",
      "display_name": "Python 3"
    },
    "language_info": {
      "name": "python"
    }
  },
  "cells": [
    {
      "cell_type": "markdown",
      "source": [
        "(A)1. Write a program to generate Symbol table of a two-pass Assembler for the given Assembly language source code.  "
      ],
      "metadata": {
        "id": "6MAJbLl35H9F"
      }
    },
    {
      "cell_type": "code",
      "execution_count": 4,
      "metadata": {
        "colab": {
          "base_uri": "https://localhost:8080/"
        },
        "id": "jdAZWVvI4bqx",
        "outputId": "7eb8d6d6-f4c4-4d6f-ebd4-9a06660592ac"
      },
      "outputs": [
        {
          "output_type": "stream",
          "name": "stdout",
          "text": [
            "Symbol Table:\n",
            "Label\t|\tAddress\n",
            "----------------------\n",
            "A\t|\t110\n",
            "B\t|\t111\n",
            "LOOP\t|\t102\n",
            "BACK\t|\t106\n"
          ]
        }
      ],
      "source": [
        "def generate_symbol_table(assembly_code):\n",
        "    symbol_table = {}\n",
        "\n",
        "    # First Pass: Collect labels and their addresses\n",
        "    current_address = None\n",
        "    for line in assembly_code:\n",
        "        parts = line.split()\n",
        "        if parts[0] == \"START\":\n",
        "            current_address = int(parts[1])\n",
        "        elif parts[0] != \"END\":\n",
        "            if(len(parts)==2):\n",
        "              if(parts[0]==\"READ\"):\n",
        "                symbol_table[parts[1]]=\"Not assigned\"\n",
        "            elif(len(parts)==4):\n",
        "              symbol_table[parts[0]]=current_address\n",
        "            elif(len(parts)==3 and parts[1]==\"DS\"):\n",
        "              symbol_table[parts[0]]=current_address\n",
        "              current_address+=int(parts[2])-1\n",
        "            elif(len(parts)==3 and parts[1]==\"DC\"):\n",
        "              symbol_table[parts[0]]=current_address\n",
        "            current_address+=1\n",
        "\n",
        "\n",
        "    # Second Pass: Generate Symbol Table\n",
        "    print(\"Symbol Table:\")\n",
        "    print(\"Label\\t|\\tAddress\")\n",
        "    print(\"----------------------\")\n",
        "    for label, address in symbol_table.items():\n",
        "        if label==\"READ\":\n",
        "          continue\n",
        "        print(f\"{label}\\t|\\t{address}\")\n",
        "\n",
        "# Assembly code\n",
        "assembly_code = [\n",
        "    \"START 100\",\n",
        "    \"READ A\",\n",
        "    \"READ B\",\n",
        "    \"LOOP MOVER AREG, A\",\n",
        "    \"MOVER BREG, B\",\n",
        "    \"COMP BREG, ='2'\",\n",
        "    \"BC GT, LOOP\",\n",
        "    \"BACK SUB AREG, B\",\n",
        "    \"COMP AREG, ='5'\",\n",
        "    \"BC LT, BACK\",\n",
        "    \"STOP\",\n",
        "    \"A DS 1\",\n",
        "    \"B DS 1\",\n",
        "    \"END\"\n",
        "]\n",
        "\n",
        "# Generate symbol table\n",
        "generate_symbol_table(assembly_code)"
      ]
    },
    {
      "cell_type": "markdown",
      "source": [
        "(B)1.Write a program to generate Symbol table of a two-pass Assembler for the given Assembly language source code.  "
      ],
      "metadata": {
        "id": "eI_yAhjV5RbT"
      }
    },
    {
      "cell_type": "code",
      "source": [
        "def generate_symbol_table(assembly_code):\n",
        "    symbol_table = {}\n",
        "\n",
        "    # First Pass: Collect labels and their addresses\n",
        "    current_address = None\n",
        "    for line in assembly_code:\n",
        "        parts = line.split()\n",
        "        if parts[0] == \"START\":\n",
        "            current_address = int(parts[1])\n",
        "        elif parts[0] != \"END\":\n",
        "            if(len(parts)==2):\n",
        "              if(parts[0]==\"READ\"):\n",
        "                symbol_table[parts[1]]=\"Not assigned\"\n",
        "            elif(len(parts)==4):\n",
        "              symbol_table[parts[0]]=current_address\n",
        "            elif(len(parts)==3 and parts[1]==\"DS\"):\n",
        "              symbol_table[parts[0]]=current_address\n",
        "              current_address+=int(parts[2])-1\n",
        "            elif(len(parts)==3 and parts[1]==\"DC\"):\n",
        "              symbol_table[parts[0]]=current_address\n",
        "            current_address+=1\n",
        "\n",
        "\n",
        "    # Second Pass: Generate Symbol Table\n",
        "    print(\"Symbol Table:\")\n",
        "    print(\"Label\\t|\\tAddress\")\n",
        "    print(\"----------------------\")\n",
        "    for label, address in symbol_table.items():\n",
        "        if label==\"READ\":\n",
        "          continue\n",
        "        print(f\"{label}\\t|\\t{address}\")\n",
        "\n",
        "# Assembly code\n",
        "assembly_code = [\n",
        "     \"START 150\",\n",
        "    \"READ D\",\n",
        "    \"READ E.\"\n",
        "\"LOOP\t MOVER AREG, D  \",\n",
        "\t \"MOVER BREG, E  \",\n",
        "    \"COMP BREG, =’20’ \",\n",
        "\t \"BC GT, LOOP\",\n",
        "\"BACK SUB AREG, E\",\n",
        "            \"COMP AREG, =’50’\",\n",
        "\t \"BC  LT, BACK\",\n",
        "    \"STOP\",\n",
        "\"D\t DS\t1\",\n",
        "\"E\t DS\t1\",\n",
        "\t \"END\"\n",
        "]\n",
        "\n",
        "# Generate symbol table\n",
        "generate_symbol_table(assembly_code)"
      ],
      "metadata": {
        "colab": {
          "base_uri": "https://localhost:8080/"
        },
        "id": "z2Amigok5Nou",
        "outputId": "a8e74af6-f3e0-48ee-aa47-9f3c97c41f07"
      },
      "execution_count": 5,
      "outputs": [
        {
          "output_type": "stream",
          "name": "stdout",
          "text": [
            "Symbol Table:\n",
            "Label\t|\tAddress\n",
            "----------------------\n",
            "D\t|\t159\n",
            "BACK\t|\t155\n",
            "E\t|\t160\n"
          ]
        }
      ]
    },
    {
      "cell_type": "markdown",
      "source": [
        "(C) 1. Write a program to generate Symbol table of a two-pass Assembler for the given Assembly language source code.  "
      ],
      "metadata": {
        "id": "bHh7kNnb5_el"
      }
    },
    {
      "cell_type": "code",
      "source": [
        "def generate_symbol_table(assembly_code):\n",
        "    symbol_table = {}\n",
        "\n",
        "    # First Pass: Collect labels and their addresses\n",
        "    current_address = None\n",
        "    for line in assembly_code:\n",
        "        parts = line.split()\n",
        "        if parts[0] == \"START\":\n",
        "            current_address = int(parts[1])\n",
        "        elif parts[0] != \"END\":\n",
        "            if(len(parts)==2):\n",
        "              if(parts[0]==\"READ\"):\n",
        "                symbol_table[parts[1]]=\"Not assigned\"\n",
        "            elif(len(parts)==4):\n",
        "              symbol_table[parts[0]]=current_address\n",
        "            elif(len(parts)==3 and parts[1]==\"DS\"):\n",
        "              symbol_table[parts[0]]=current_address\n",
        "              current_address+=int(parts[2])-1\n",
        "            elif(len(parts)==3 and parts[1]==\"DC\"):\n",
        "              symbol_table[parts[0]]=current_address\n",
        "            current_address+=1\n",
        "\n",
        "\n",
        "    # Second Pass: Generate Symbol Table\n",
        "    print(\"Symbol Table:\")\n",
        "    print(\"Label\\t|\\tAddress\")\n",
        "    print(\"----------------------\")\n",
        "    for label, address in symbol_table.items():\n",
        "        if label==\"READ\":\n",
        "          continue\n",
        "        print(f\"{label}\\t|\\t{address}\")\n",
        "\n",
        "# Assembly code\n",
        "assembly_code = [\n",
        "     \"START 180\",\n",
        "    \"READ M\",\n",
        "    \"READ N.\"\n",
        "\"LOOP\t MOVER AREG, M  \",\n",
        "\t \"MOVER BREG, N  \",\n",
        "    \"COMP BREG, =’200’ \",\n",
        "\t \"BC GT, LOOP\",\n",
        "\"BACK SUB AREG, M\",\n",
        "            \"COMP AREG, =’500’\",\n",
        "\t \"BC  LT, BACK\",\n",
        "    \"STOP\",\n",
        "\"M\t DS\t1\",\n",
        "\"N\t DS\t1\",\n",
        "\t \"END\"\n",
        "\n",
        "]\n",
        "\n",
        "# Generate symbol table\n",
        "generate_symbol_table(assembly_code)"
      ],
      "metadata": {
        "colab": {
          "base_uri": "https://localhost:8080/"
        },
        "id": "Ps9LPE0F6Dp-",
        "outputId": "47940ac7-9028-4659-a7a0-385aea1b372f"
      },
      "execution_count": 6,
      "outputs": [
        {
          "output_type": "stream",
          "name": "stdout",
          "text": [
            "Symbol Table:\n",
            "Label\t|\tAddress\n",
            "----------------------\n",
            "M\t|\t189\n",
            "BACK\t|\t185\n",
            "N\t|\t190\n"
          ]
        }
      ]
    },
    {
      "cell_type": "markdown",
      "source": [
        "(A)2. Write a program to generate Literal table of a two-pass Assembler for the given Assembly language source code."
      ],
      "metadata": {
        "id": "FctOYfX47Mpr"
      }
    },
    {
      "cell_type": "code",
      "source": [
        "def generate_literal_table(assembly_code):\n",
        "\n",
        "    ans=[]\n",
        "    literal_table = {}\n",
        "\n",
        "    # First Pass: Collect literals and their values\n",
        "    current_address = None\n",
        "    for line in assembly_code:\n",
        "        parts = line.split()\n",
        "        if parts[0] == \"START\":\n",
        "            current_address = int(parts[1])\n",
        "        elif parts[0] != \"END\" and parts[0]!='LTORG':\n",
        "            for part in parts:\n",
        "                if part.startswith(\"='\"):\n",
        "                    literal = part.strip(\"='\")\n",
        "                    literal_table[literal] = None\n",
        "            current_address += 1\n",
        "        elif parts[0]=='LTORG':\n",
        "           for literal in literal_table:\n",
        "              literal_table[literal] = current_address\n",
        "              current_address += 1\n",
        "           ans.append(literal_table)\n",
        "           literal_table={}\n",
        "\n",
        "    for literal in literal_table:\n",
        "        if(literal_table[literal] == None):\n",
        "          literal_table[literal] = current_address\n",
        "          current_address += 1\n",
        "    ans.append(literal_table)\n",
        "    literal_table={}\n",
        "\n",
        "\n",
        "    # Second Pass: Generate Literal Table\n",
        "    print(\"Literal Table:\")\n",
        "    print(\"Literal\\t|\\tValue\")\n",
        "    print(\"----------------------\")\n",
        "    for i in range(len(ans)):\n",
        "      for literal, value in ans[i].items():\n",
        "          print(f\"{literal}\\t|\\t{value}\")\n",
        "\n",
        "# Assembly code\n",
        "assembly_code = [\n",
        "    \"START 100\",\n",
        "    \"READ M\",\n",
        "    \"READ N\",\n",
        "    \"MOVER AREG, ='50'\",\n",
        "    \"MOVER BREG, ='60'\",\n",
        "    \"ADD AREG, BREG\",\n",
        "    \"LOOP MOVER CREG, M\",\n",
        "    \"ADD CREG, ='10'\",\n",
        "    \"COMP CREG, N\",\n",
        "    \"BC LT, LOOP\",\n",
        "    \"LTORG\",\n",
        "    \"NEXT SUB AREG, ='10'\",\n",
        "    \"COMP AREG, N\",\n",
        "    \"BC GT, NEXT\",\n",
        "    \"STOP\",\n",
        "    \"M DS 1\",\n",
        "    \"N DS 1\",\n",
        "    \"END\"\n",
        "]\n",
        "\n",
        "# Generate literal table\n",
        "generate_literal_table(assembly_code)"
      ],
      "metadata": {
        "colab": {
          "base_uri": "https://localhost:8080/"
        },
        "id": "6yeXxRBA69D7",
        "outputId": "2442b9fe-fae8-4c5f-8c45-a3480146a264"
      },
      "execution_count": 12,
      "outputs": [
        {
          "output_type": "stream",
          "name": "stdout",
          "text": [
            "Literal Table:\n",
            "Literal\t|\tValue\n",
            "----------------------\n",
            "50\t|\t109\n",
            "60\t|\t110\n",
            "10\t|\t111\n",
            "10\t|\t118\n"
          ]
        }
      ]
    },
    {
      "cell_type": "markdown",
      "source": [
        "(A)2. Write a program to generate Literal table of a two-pass Assembler for the given Assembly language source code."
      ],
      "metadata": {
        "id": "npWpq_9R7SXH"
      }
    },
    {
      "cell_type": "code",
      "source": [
        "def generate_literal_table(assembly_code):\n",
        "\n",
        "    ans=[]\n",
        "    literal_table = {}\n",
        "\n",
        "    # First Pass: Collect literals and their values\n",
        "    current_address = None\n",
        "    for line in assembly_code:\n",
        "        parts = line.split()\n",
        "        if parts[0] == \"START\":\n",
        "            current_address = int(parts[1])\n",
        "        elif parts[0] != \"END\" and parts[0]!='LTORG':\n",
        "            for part in parts:\n",
        "                if part.startswith(\"='\"):\n",
        "                    literal = part.strip(\"='\")\n",
        "                    literal_table[literal] = None\n",
        "            current_address += 1\n",
        "        elif parts[0]=='LTORG':\n",
        "           for literal in literal_table:\n",
        "              literal_table[literal] = current_address\n",
        "              current_address += 1\n",
        "           ans.append(literal_table)\n",
        "           literal_table={}\n",
        "\n",
        "    for literal in literal_table:\n",
        "        if(literal_table[literal] == None):\n",
        "          literal_table[literal] = current_address\n",
        "          current_address += 1\n",
        "    ans.append(literal_table)\n",
        "    literal_table={}\n",
        "\n",
        "\n",
        "    # Second Pass: Generate Literal Table\n",
        "    print(\"Literal Table:\")\n",
        "    print(\"Literal\\t|\\tValue\")\n",
        "    print(\"----------------------\")\n",
        "    for i in range(len(ans)):\n",
        "      for literal, value in ans[i].items():\n",
        "          print(f\"{literal}\\t|\\t{value}\")\n",
        "\n",
        "# Assembly code\n",
        "assembly_code = [\n",
        "    \"START 200\",\n",
        "    \"READ X\",\n",
        "    \"READ Y\",\n",
        "    \"MOVER AREG, ='5'\",\n",
        "    \"MOVER BREG, ='6'\",\n",
        "    \"ADD AREG, BREG\",\n",
        "    \"LOOP MOVER CREG, X\",\n",
        "    \"ADD CREG, ='1'\",\n",
        "    \"COMP CREG, Y\",\n",
        "    \"BC LT, LOOP\",\n",
        "    \"LTORG\",\n",
        "    \"NEXT SUB AREG, ='1'\",\n",
        "    \"COMP AREG, Y\",\n",
        "    \"BC GT, NEXT\",\n",
        "    \"STOP\",\n",
        "    \"X DS 1\",\n",
        "    \"Y DS 1\",\n",
        "    \"END\"\n",
        "]\n",
        "\n",
        "# Generate literal table\n",
        "generate_literal_table(assembly_code)"
      ],
      "metadata": {
        "colab": {
          "base_uri": "https://localhost:8080/"
        },
        "id": "NFZFjvOV7TQZ",
        "outputId": "1570453a-1001-40ff-a4c3-fd68d1022a27"
      },
      "execution_count": 13,
      "outputs": [
        {
          "output_type": "stream",
          "name": "stdout",
          "text": [
            "Literal Table:\n",
            "Literal\t|\tValue\n",
            "----------------------\n",
            "5\t|\t209\n",
            "6\t|\t210\n",
            "1\t|\t211\n",
            "1\t|\t218\n"
          ]
        }
      ]
    },
    {
      "cell_type": "markdown",
      "source": [
        "(A)2. Write a program to generate Literal table of a two-pass Assembler for the given Assembly language source code."
      ],
      "metadata": {
        "id": "hSgYtS1a7RrJ"
      }
    },
    {
      "cell_type": "code",
      "source": [
        "def generate_literal_table(assembly_code):\n",
        "\n",
        "    ans=[]\n",
        "    literal_table = {}\n",
        "\n",
        "    # First Pass: Collect literals and their values\n",
        "    current_address = None\n",
        "    for line in assembly_code:\n",
        "        parts = line.split()\n",
        "        if parts[0] == \"START\":\n",
        "            current_address = int(parts[1])\n",
        "        elif parts[0] != \"END\" and parts[0]!='LTORG':\n",
        "            for part in parts:\n",
        "                if part.startswith(\"='\"):\n",
        "                    literal = part.strip(\"='\")\n",
        "                    literal_table[literal] = None\n",
        "            current_address += 1\n",
        "        elif parts[0]=='LTORG':\n",
        "           for literal in literal_table:\n",
        "              literal_table[literal] = current_address\n",
        "              current_address += 1\n",
        "           ans.append(literal_table)\n",
        "           literal_table={}\n",
        "\n",
        "    for literal in literal_table:\n",
        "        if(literal_table[literal] == None):\n",
        "          literal_table[literal] = current_address\n",
        "          current_address += 1\n",
        "    ans.append(literal_table)\n",
        "    literal_table={}\n",
        "\n",
        "\n",
        "    # Second Pass: Generate Literal Table\n",
        "    print(\"Literal Table:\")\n",
        "    print(\"Literal\\t|\\tValue\")\n",
        "    print(\"----------------------\")\n",
        "    for i in range(len(ans)):\n",
        "      for literal, value in ans[i].items():\n",
        "          print(f\"{literal}\\t|\\t{value}\")\n",
        "\n",
        "# Assembly code\n",
        "assembly_code = [\n",
        "    \"START 300\",\n",
        "    \"READ A\",\n",
        "    \"READ B\",\n",
        "    \"MOVER AREG, ='51'\",\n",
        "    \"MOVER BREG, ='61'\",\n",
        "    \"ADD AREG, BREG\",\n",
        "    \"LOOP MOVER CREG, A\",\n",
        "    \"ADD CREG, ='11'\",\n",
        "    \"COMP CREG, B\",\n",
        "    \"BC LT, LOOP\",\n",
        "    \"LTORG\",\n",
        "    \"NEXT SUB AREG, ='11'\",\n",
        "    \"COMP AREG, B\",\n",
        "    \"BC GT, NEXT\",\n",
        "    \"STOP\",\n",
        "    \"A DS 1\",\n",
        "    \"B DS 1\",\n",
        "    \"END\"\n",
        "]\n",
        "\n",
        "# Generate literal table\n",
        "generate_literal_table(assembly_code)"
      ],
      "metadata": {
        "colab": {
          "base_uri": "https://localhost:8080/"
        },
        "id": "Y2SxVyFX7TqL",
        "outputId": "a883ead7-1545-4dc1-d469-a3cb935c0eb7"
      },
      "execution_count": 14,
      "outputs": [
        {
          "output_type": "stream",
          "name": "stdout",
          "text": [
            "Literal Table:\n",
            "Literal\t|\tValue\n",
            "----------------------\n",
            "51\t|\t309\n",
            "61\t|\t310\n",
            "11\t|\t311\n",
            "11\t|\t318\n"
          ]
        }
      ]
    },
    {
      "cell_type": "markdown",
      "source": [
        "(A)3.Write a program to generate Pool table of a two-pass Assembler for the given Assembly language source code."
      ],
      "metadata": {
        "id": "6kstAngy84sc"
      }
    },
    {
      "cell_type": "code",
      "source": [
        "def generate_literal_table(assembly_code):\n",
        "\n",
        "    ans=[]\n",
        "    idx=0\n",
        "    ans.append(idx)\n",
        "    literal_table={}\n",
        "\n",
        "    # First Pass: Collect literals and their values\n",
        "    current_address = None\n",
        "    for line in assembly_code:\n",
        "        parts = line.split()\n",
        "        if parts[0] == \"START\":\n",
        "            current_address = int(parts[1])\n",
        "        elif parts[0] != \"END\" and parts[0]!='LTORG':\n",
        "            for part in parts:\n",
        "                if part.startswith(\"='\"):\n",
        "                    literal = part.strip(\"='\")\n",
        "                    literal_table[literal] = None\n",
        "            current_address += 1\n",
        "        elif parts[0]=='LTORG':\n",
        "           for literal in literal_table:\n",
        "              literal_table[literal] = current_address\n",
        "              current_address += 1\n",
        "              idx+=1\n",
        "           ans.append(idx)\n",
        "           literal_table={}\n",
        "\n",
        "    for literal in literal_table:\n",
        "        if(literal_table[literal] == None):\n",
        "          literal_table[literal] = current_address\n",
        "          current_address += 1\n",
        "          idx+=1\n",
        "    ans.append(idx)\n",
        "    literal_table={}\n",
        "\n",
        "\n",
        "    # Second Pass: Generate Literal Table\n",
        "    print(\"Pool Table:\")\n",
        "    print(\"Index\")\n",
        "    print(\"----------------------\")\n",
        "    for i in range(len(ans)):\n",
        "      print(ans[i])\n",
        "\n",
        "# Assembly code\n",
        "assembly_code = [\n",
        "    \"START 100\",\n",
        "    \"READ A\",\n",
        "    \"READ B\",\n",
        "    \"MOVER AREG, ='5'\",\n",
        "    \"MOVER BREG, ='6'\",\n",
        "    \"ADD AREG, BREG\",\n",
        "    \"LOOP MOVER CREG, A\",\n",
        "    \"ADD CREG, ='1'\",\n",
        "    \"COMP CREG, B\",\n",
        "    \"BC LT, LOOP\",\n",
        "    \"LTORG\",\n",
        "    \"NEXT SUB AREG, ='1'\",\n",
        "    \"COMP AREG, B\",\n",
        "    \"BC GT, NEXT\",\n",
        "    \"STOP\",\n",
        "    \"A DS 1\",\n",
        "    \"B DS 1\",\n",
        "    \"END\"\n",
        "]\n",
        "\n",
        "# Generate literal table\n",
        "generate_literal_table(assembly_code)"
      ],
      "metadata": {
        "colab": {
          "base_uri": "https://localhost:8080/"
        },
        "id": "hVWngtIH8Wxk",
        "outputId": "684b7310-e73f-4ea1-8449-71dad228dce3"
      },
      "execution_count": 15,
      "outputs": [
        {
          "output_type": "stream",
          "name": "stdout",
          "text": [
            "Pool Table:\n",
            "Index\n",
            "----------------------\n",
            "0\n",
            "3\n",
            "4\n"
          ]
        }
      ]
    },
    {
      "cell_type": "markdown",
      "source": [
        "(A)3.Write a program to generate Pool table of a two-pass Assembler for the given Assembly language source code."
      ],
      "metadata": {
        "id": "alAoEVPc9AuK"
      }
    },
    {
      "cell_type": "code",
      "source": [
        "def generate_literal_table(assembly_code):\n",
        "\n",
        "    ans=[]\n",
        "    idx=0\n",
        "    ans.append(idx)\n",
        "    literal_table={}\n",
        "\n",
        "    # First Pass: Collect literals and their values\n",
        "    current_address = None\n",
        "    for line in assembly_code:\n",
        "        parts = line.split()\n",
        "        if parts[0] == \"START\":\n",
        "            current_address = int(parts[1])\n",
        "        elif parts[0] != \"END\" and parts[0]!='LTORG':\n",
        "            for part in parts:\n",
        "                if part.startswith(\"='\"):\n",
        "                    literal = part.strip(\"='\")\n",
        "                    literal_table[literal] = None\n",
        "            current_address += 1\n",
        "        elif parts[0]=='LTORG':\n",
        "           for literal in literal_table:\n",
        "              literal_table[literal] = current_address\n",
        "              current_address += 1\n",
        "              idx+=1\n",
        "           ans.append(idx)\n",
        "           literal_table={}\n",
        "\n",
        "    for literal in literal_table:\n",
        "        if(literal_table[literal] == None):\n",
        "          literal_table[literal] = current_address\n",
        "          current_address += 1\n",
        "          idx+=1\n",
        "    ans.append(idx)\n",
        "    literal_table={}\n",
        "\n",
        "\n",
        "    # Second Pass: Generate Literal Table\n",
        "    print(\"Pool Table:\")\n",
        "    print(\"Index\")\n",
        "    print(\"----------------------\")\n",
        "    for i in range(len(ans)):\n",
        "      print(ans[i])\n",
        "\n",
        "# Assembly code\n",
        "assembly_code = [\n",
        "    \"START 200\",\n",
        "    \"READ X\",\n",
        "    \"READ Y\",\n",
        "    \"MOVER AREG, ='50'\",\n",
        "    \"MOVER BREG, ='60'\",\n",
        "    \"ADD AREG, BREG\",\n",
        "    \"LOOP MOVER CREG, X\",\n",
        "    \"ADD CREG, ='10'\",\n",
        "    \"COMP CREG, Y\",\n",
        "    \"BC LT, LOOP\",\n",
        "    \"LTORG\",\n",
        "    \"NEXT SUB AREG, ='10'\",\n",
        "    \"COMP AREG, Y\",\n",
        "    \"BC GT, NEXT\",\n",
        "    \"STOP\",\n",
        "    \"X DS 1\",\n",
        "    \"Y DS 1\",\n",
        "    \"END\"\n",
        "]\n",
        "\n",
        "# Generate literal table\n",
        "generate_literal_table(assembly_code)"
      ],
      "metadata": {
        "colab": {
          "base_uri": "https://localhost:8080/"
        },
        "id": "yOuapgAK9Cyc",
        "outputId": "26172035-5249-4b09-89eb-a11b3fe1a269"
      },
      "execution_count": 16,
      "outputs": [
        {
          "output_type": "stream",
          "name": "stdout",
          "text": [
            "Pool Table:\n",
            "Index\n",
            "----------------------\n",
            "0\n",
            "3\n",
            "4\n"
          ]
        }
      ]
    },
    {
      "cell_type": "markdown",
      "source": [
        "\n",
        "(A)3.Write a program to generate Pool table of a two-pass Assembler for the given Assembly language source code."
      ],
      "metadata": {
        "id": "Zt4MKHWb9GBN"
      }
    },
    {
      "cell_type": "code",
      "source": [
        "def generate_literal_table(assembly_code):\n",
        "\n",
        "    ans=[]\n",
        "    idx=0\n",
        "    ans.append(idx)\n",
        "    literal_table={}\n",
        "\n",
        "    # First Pass: Collect literals and their values\n",
        "    current_address = None\n",
        "    for line in assembly_code:\n",
        "        parts = line.split()\n",
        "        if parts[0] == \"START\":\n",
        "            current_address = int(parts[1])\n",
        "        elif parts[0] != \"END\" and parts[0]!='LTORG':\n",
        "            for part in parts:\n",
        "                if part.startswith(\"='\"):\n",
        "                    literal = part.strip(\"='\")\n",
        "                    literal_table[literal] = None\n",
        "            current_address += 1\n",
        "        elif parts[0]=='LTORG':\n",
        "           for literal in literal_table:\n",
        "              literal_table[literal] = current_address\n",
        "              current_address += 1\n",
        "              idx+=1\n",
        "           ans.append(idx)\n",
        "           literal_table={}\n",
        "\n",
        "    for literal in literal_table:\n",
        "        if(literal_table[literal] == None):\n",
        "          literal_table[literal] = current_address\n",
        "          current_address += 1\n",
        "          idx+=1\n",
        "    ans.append(idx)\n",
        "    literal_table={}\n",
        "\n",
        "\n",
        "    # Second Pass: Generate Literal Table\n",
        "    print(\"Pool Table:\")\n",
        "    print(\"Index\")\n",
        "    print(\"----------------------\")\n",
        "    for i in range(len(ans)):\n",
        "      print(ans[i])\n",
        "\n",
        "# Assembly code\n",
        "assembly_code = [\n",
        "    \"START 300\",\n",
        "    \"READ M\",\n",
        "    \"READ N\",\n",
        "    \"MOVER AREG, ='51'\",\n",
        "    \"MOVER BREG, ='61'\",\n",
        "    \"ADD AREG, BREG\",\n",
        "    \"LOOP MOVER CREG, M\",\n",
        "    \"ADD CREG, ='11'\",\n",
        "    \"COMP CREG, N\",\n",
        "    \"BC LT, LOOP\",\n",
        "    \"LTORG\",\n",
        "    \"NEXT SUB AREG, ='11'\",\n",
        "    \"COMP AREG, N\",\n",
        "    \"BC GT, NEXT\",\n",
        "    \"STOP\",\n",
        "    \"M DS 1\",\n",
        "    \"N DS 1\",\n",
        "    \"END\"\n",
        "]\n",
        "\n",
        "# Generate literal table\n",
        "generate_literal_table(assembly_code)"
      ],
      "metadata": {
        "colab": {
          "base_uri": "https://localhost:8080/"
        },
        "id": "8aym5gvS9Emm",
        "outputId": "78bc5c36-3ae1-4e47-8421-f7c8a3d04ce8"
      },
      "execution_count": 19,
      "outputs": [
        {
          "output_type": "stream",
          "name": "stdout",
          "text": [
            "Pool Table:\n",
            "Index\n",
            "----------------------\n",
            "0\n",
            "3\n",
            "4\n"
          ]
        }
      ]
    }
  ]
}